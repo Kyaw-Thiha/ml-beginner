{
  "cells": [
    {
      "cell_type": "code",
      "metadata": {
        "jukit_cell_id": "bcq3B9MeVR"
      },
      "source": [
        "import numpy"
      ],
      "outputs": [],
      "execution_count": null
    },
    {
      "cell_type": "code",
      "metadata": {
        "jukit_cell_id": "eWZwS0qoLq"
      },
      "source": [],
      "outputs": [],
      "execution_count": null
    }
  ],
  "metadata": {
    "anaconda-cloud": {},
    "kernelspec": {
      "display_name": "python",
      "language": "python",
      "name": "python3"
    }
  },
  "nbformat": 4,
  "nbformat_minor": 4
}